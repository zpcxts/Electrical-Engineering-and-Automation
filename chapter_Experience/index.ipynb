{
 "cells": [
  {
   "cell_type": "markdown",
   "id": "0aca5f7f-7b3d-4b58-bc2d-3ccf97004e34",
   "metadata": {},
   "source": [
    "# Zpc的使用心得\n",
    "\n",
    "建设中，后续还是以博客的形式贴出去好了。"
   ]
  }
 ],
 "metadata": {
  "kernelspec": {
   "display_name": "Python 3 (ipykernel)",
   "language": "python",
   "name": "python3"
  },
  "language_info": {
   "codemirror_mode": {
    "name": "ipython",
    "version": 3
   },
   "file_extension": ".py",
   "mimetype": "text/x-python",
   "name": "python",
   "nbconvert_exporter": "python",
   "pygments_lexer": "ipython3",
   "version": "3.12.9"
  }
 },
 "nbformat": 4,
 "nbformat_minor": 5
}
