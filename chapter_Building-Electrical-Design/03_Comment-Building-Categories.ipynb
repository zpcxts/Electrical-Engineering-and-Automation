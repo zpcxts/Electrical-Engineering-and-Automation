{
 "cells": [
  {
   "cell_type": "markdown",
   "id": "44540296-2ffd-457e-8406-dddcf2bb89af",
   "metadata": {},
   "source": [
    "# 常见建筑类别划分\n",
    "\n",
    "## 一. 工业建筑\n",
    "\n",
    "<p style=\"text-align:center;\">\n",
    "    <img src = \"../img/工业建筑划分方式.png\" alt=\"description\" width=\"500\"/>\n",
    "</p>\n",
    "\n",
    "工业建筑防火分级由建筑专业确定，电气专业需要根据防火分级设置符合规范的各种乱七八糟。\n",
    "\n",
    "## 二. 民用建筑\n",
    "\n",
    "<p style=\"text-align:center;\">\n",
    "    <img src = \"../img/民用建筑划分方式.png\" alt=\"description\" width=\"500\"/>\n",
    "</p>\n",
    "\n",
    "民用和工业划分方式的最大区别是按建筑高度分。"
   ]
  },
  {
   "cell_type": "markdown",
   "id": "6e06f5a6-c1c2-4fb8-bdab-7ad095d98111",
   "metadata": {},
   "source": [
    "# 电气负荷分级\n",
    "\n",
    "<p style=\"text-align:center;\">\n",
    "    <img src = \"../img/电气负荷分级.png\" alt=\"description\" width=\"500\"/>\n",
    "</p>\n",
    "\n",
    "1. 一级负荷\n",
    "    - 中断供电造成*人身伤害*：医院\n",
    "    - 中断供电造成*重大经济损失*：炼铁厂\n",
    "    - 影响*重要用电单位*的正常工作：人民大会堂\n",
    "3. 一级负荷中的重要负荷（！！绝对不允许中断供电的负荷）\n",
    "4. 二级负荷\n",
    "    - 中断供电造成*比较重大经济损失*\n",
    "    - 影响*比较重要的用电单位*正常工作\n",
    "5. 三级负荷"
   ]
  },
  {
   "cell_type": "markdown",
   "id": "e2ebc5a7-8254-4da4-ae04-badf08cc259d",
   "metadata": {},
   "source": [
    "## 常用建筑负荷分级\n",
    "\n",
    "### 1. 商场，超市\n",
    "<p style=\"text-align:center;\">\n",
    "    <img src = \"../img/常用建筑负荷分级_商场.png\" alt=\"description\" width=\"500\"/>\n",
    "</p>\n",
    "\n",
    "### 2. 车库，停车场\n",
    "<p style=\"text-align:center;\">\n",
    "    <img src = \"../img/常用建筑负荷分级_车库.png\" alt=\"description\" width=\"500\"/>\n",
    "</p>\n",
    "\n",
    "### 3. 高层建筑\n",
    "<p style=\"text-align:center;\">\n",
    "    <img src = \"../img/常用建筑负荷分级_高层建筑.png\" alt=\"description\" width=\"500\"/>\n",
    "</p>"
   ]
  },
  {
   "cell_type": "markdown",
   "id": "13c29aa4-c68b-4db9-949b-b8e217601ac7",
   "metadata": {},
   "source": [
    "# 负荷等级与建筑类别的联系\n",
    "\n",
    "上表已经基本说明了高层建筑和负荷等级的关系。对于非高层建筑，一般为三级负荷，此处列举一些特例：（主要是消防负荷）\n",
    "\n",
    "- 室外消防用水量大于30L/s的厂房（仓库）\n",
    "- 室外消防用水量大约25L/s的其他公用建筑\n",
    "- 座位数超过1500个的电影院、剧场\n",
    "- 任一层建筑面积大于$3000m^2$的商店和展览建筑\n"
   ]
  },
  {
   "cell_type": "code",
   "execution_count": null,
   "id": "5f1c3e0c-0019-4cb8-90ea-98330e839c5e",
   "metadata": {},
   "outputs": [],
   "source": []
  }
 ],
 "metadata": {
  "kernelspec": {
   "display_name": "Python 3 (ipykernel)",
   "language": "python",
   "name": "python3"
  },
  "language_info": {
   "codemirror_mode": {
    "name": "ipython",
    "version": 3
   },
   "file_extension": ".py",
   "mimetype": "text/x-python",
   "name": "python",
   "nbconvert_exporter": "python",
   "pygments_lexer": "ipython3",
   "version": "3.12.9"
  }
 },
 "nbformat": 4,
 "nbformat_minor": 5
}
