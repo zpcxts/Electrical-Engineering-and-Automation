{
 "cells": [
  {
   "cell_type": "markdown",
   "id": "8cdb2374-afae-4bf5-9488-00c27d9ed562",
   "metadata": {},
   "source": [
    "# 电气施工图的构成\n",
    "\n",
    "电气施工图的构成：图纸目录，电气设备材料表，设计说明，系统图，平面布置图。"
   ]
  },
  {
   "cell_type": "markdown",
   "id": "47e8e87a-6763-4bd0-90a6-8409703d3963",
   "metadata": {},
   "source": [
    "## 一. 设计说明\n",
    "\n",
    "是系统图和平面图的补充说明，是指导施工的一部分。其构成如下：\n",
    "\n",
    "1. 工程概况\n",
    "2. 设计范围\n",
    "3. 设计依据\n",
    "4. 设计中涉及到的各部分系统"
   ]
  },
  {
   "attachments": {},
   "cell_type": "markdown",
   "id": "b3d6ed66-b47c-4593-850d-42071ef41ff8",
   "metadata": {},
   "source": [
    "## 二. 系统图\n",
    "\n",
    "系统图是平面图的补充，它与平面图相辅相成，是指导施工的重要部分。(例如：在平面图中，下面这一坨将用一个小块表示)\n",
    "\n",
    "<p style=\"text-align:center;\">\n",
    "    <img src = \"../img/照明配电箱系统图实例.png\" alt=\"description\" width=\"500\"/>\n",
    "</p>\n",
    "\n",
    "在系统图中需要把平面图中未能描述清楚的所有信息都明确。\n",
    "\n",
    "系统图可分为：\n",
    "- 照明系统图\n",
    "- 消防系统图\n",
    "- 动力系统图"
   ]
  },
  {
   "cell_type": "code",
   "execution_count": null,
   "id": "a3c08e2e-8103-4db1-9fd6-07fcd5f8f6ef",
   "metadata": {},
   "outputs": [],
   "source": []
  }
 ],
 "metadata": {
  "kernelspec": {
   "display_name": "Python 3 (ipykernel)",
   "language": "python",
   "name": "python3"
  },
  "language_info": {
   "codemirror_mode": {
    "name": "ipython",
    "version": 3
   },
   "file_extension": ".py",
   "mimetype": "text/x-python",
   "name": "python",
   "nbconvert_exporter": "python",
   "pygments_lexer": "ipython3",
   "version": "3.12.9"
  }
 },
 "nbformat": 4,
 "nbformat_minor": 5
}
