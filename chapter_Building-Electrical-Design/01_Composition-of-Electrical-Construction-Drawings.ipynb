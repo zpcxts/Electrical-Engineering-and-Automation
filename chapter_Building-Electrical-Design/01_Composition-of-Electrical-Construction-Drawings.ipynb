{
 "cells": [
  {
   "cell_type": "markdown",
   "id": "8cdb2374-afae-4bf5-9488-00c27d9ed562",
   "metadata": {},
   "source": [
    "# 电气施工图的构成\n",
    "\n",
    "电气施工图的构成：图纸目录，电气设备材料表，设计说明，系统图，平面布置图。"
   ]
  },
  {
   "cell_type": "markdown",
   "id": "47e8e87a-6763-4bd0-90a6-8409703d3963",
   "metadata": {},
   "source": [
    "## 一. 设计说明\n",
    "\n",
    "是系统图和平面图的补充说明，是指导施工的一部分。其构成如下：\n",
    "\n",
    "1. 工程概况\n",
    "2. 设计范围\n",
    "3. 设计依据\n",
    "4. 设计中涉及到的各部分系统"
   ]
  },
  {
   "attachments": {},
   "cell_type": "markdown",
   "id": "b3d6ed66-b47c-4593-850d-42071ef41ff8",
   "metadata": {},
   "source": [
    "## 二. 系统图\n",
    "\n",
    "系统图是平面图的补充，它与平面图相辅相成，是指导施工的重要部分。(例如：在平面图中，下面这一坨将用一个小块表示)\n",
    "\n",
    "<p style=\"text-align:center;\">\n",
    "    <img src = \"../img/照明配电箱系统图实例.png\" alt=\"description\" width=\"500\"/>\n",
    "</p>\n",
    "\n",
    "在系统图中需要把平面图中未能描述清楚的所有信息都明确。\n",
    "\n",
    "### 2.1 系统图的分类\n",
    "\n",
    "系统图可分为：\n",
    "- 照明系统图\n",
    "- 消防系统图\n",
    "- 动力系统图"
   ]
  },
  {
   "cell_type": "markdown",
   "id": "cb0f398b-cca1-402b-9658-aedacefd22fb",
   "metadata": {},
   "source": [
    "### 2.2 系统图的构成\n",
    "\n",
    "系统图的构成：\n",
    "- 电源电压\n",
    "- 总开关\n",
    "- 分路开关\n",
    "- 导线规格\n",
    "- 敷设方式\n",
    "- 回路编号\n",
    "- 回路容量\n",
    "- 回路性质\n",
    "\n",
    "#### 2.2.1 电源电压\n",
    "\n",
    "***AC220/380V***，交流电，相电压220V,线电压380V。名词解释：\n",
    "\n",
    "- AC: alternating current, 交流电\n",
    "- 相电压: 相与中性线之间的电压\n",
    "- 线电压: 两相之间的电压（$380 = 220 * \\sqrt{3}$ )\n",
    "\n",
    "#### 2.2.2 总开关，分支开关\n",
    "\n",
    "***BM65-63/C32/3P***:\n",
    "- BM65-63: 开关型号\n",
    "- C32: 整定值\n",
    "- 3P: 极数\n",
    "\n",
    "分支开关标注内容同总开关\n",
    "\n",
    "#### 2.2.3 导线规格，穿管规格，敷设方式\n",
    "\n",
    "#### 2.2.4 回路编号，回路容量，回路性质\n",
    "\n"
   ]
  },
  {
   "cell_type": "markdown",
   "id": "7ea2bd9a-03c2-4253-8f97-05557236fc8a",
   "metadata": {},
   "source": [
    "## 三. 平面图\n",
    "\n",
    "务必保证系统图和平面图内容一一对应（即使错也要错到一起）。下图是平面图的示例：\n",
    "\n",
    "<p style=\"text-align:center;\">\n",
    "    <img src = \"../img/平面图实例.png\" alt=\"description\" width=\"500\"/>\n",
    "</p>\n",
    "\n",
    "### 3.1 平面图的分类\n",
    "\n",
    "平面图通常分为：\n",
    "- 照明平面\n",
    "- 动力平面\n",
    "- 消防平面（应急平面）\n",
    "- 弱电平面\n",
    "    - 监控\n",
    "    - 插座\n",
    "    - ......\n",
    "- 防雷平面\n",
    "- 接地平面\n",
    "\n",
    "### 3.2 平面图的构成\n",
    "\n",
    "设备，配电箱，与设备连接的导线，回路编号。***务必保证系统图和平面图内容一一对应***"
   ]
  },
  {
   "cell_type": "markdown",
   "id": "6a56fa79-d61b-4568-9e25-00f5f6649a11",
   "metadata": {},
   "source": [
    "## 四. 大样图\n",
    "\n",
    "大样图是平面图的补充，是局部平面的一个放大详图。这张范例图解释了预埋扁钢的制作方法。\n",
    "\n",
    "<p style=\"text-align:center;\">\n",
    "    <img src = \"../img/大样图实例.png\" alt=\"description\"/>\n",
    "</p>\n"
   ]
  }
 ],
 "metadata": {
  "kernelspec": {
   "display_name": "Python 3 (ipykernel)",
   "language": "python",
   "name": "python3"
  },
  "language_info": {
   "codemirror_mode": {
    "name": "ipython",
    "version": 3
   },
   "file_extension": ".py",
   "mimetype": "text/x-python",
   "name": "python",
   "nbconvert_exporter": "python",
   "pygments_lexer": "ipython3",
   "version": "3.9.21"
  }
 },
 "nbformat": 4,
 "nbformat_minor": 5
}
