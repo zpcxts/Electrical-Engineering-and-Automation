{
 "cells": [
  {
   "cell_type": "markdown",
   "id": "78b61073-2a64-4051-ab03-6939a965558c",
   "metadata": {},
   "source": [
    "# 建筑电气设计实战讲义\n",
    "\n",
    "教程引自[《建筑电气设计实战训练营》](https://www.zhulong.com/edu/a/3861.html#i=2)\n",
    "\n",
    "- [01_电气施工图的构成](01_Composition-of-Electrical-Construction-Drawings.ipynb)"
   ]
  }
 ],
 "metadata": {
  "kernelspec": {
   "display_name": "Python 3 (ipykernel)",
   "language": "python",
   "name": "python3"
  },
  "language_info": {
   "codemirror_mode": {
    "name": "ipython",
    "version": 3
   },
   "file_extension": ".py",
   "mimetype": "text/x-python",
   "name": "python",
   "nbconvert_exporter": "python",
   "pygments_lexer": "ipython3",
   "version": "3.12.9"
  }
 },
 "nbformat": 4,
 "nbformat_minor": 5
}
