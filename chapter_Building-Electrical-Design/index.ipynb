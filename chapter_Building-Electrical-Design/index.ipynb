{
 "cells": [
  {
   "cell_type": "markdown",
   "id": "78b61073-2a64-4051-ab03-6939a965558c",
   "metadata": {},
   "source": [
    "# 建筑电气设计实战讲义\n",
    "\n",
    "教程引自[《建筑电气设计实战训练营》](https://www.zhulong.com/edu/a/3861.html#i=2)\n",
    "\n",
    "- [01_电气施工图的构成](01_Composition-of-Electrical-Construction-Drawings.ipynb)\n",
    "- [02_电气设计流程](02_Electrical-Design-Process.ipynb)\n",
    "- [03_常见建筑类别划分/04_电气负荷/05_二者联系](03_Comment-Building-Categories.ipynb)"
   ]
  },
  {
   "cell_type": "code",
   "execution_count": null,
   "id": "69996083-0d77-4fc0-801f-d0edb8b6eae6",
   "metadata": {},
   "outputs": [],
   "source": []
  }
 ],
 "metadata": {
  "kernelspec": {
   "display_name": "Python 3 (ipykernel)",
   "language": "python",
   "name": "python3"
  },
  "language_info": {
   "codemirror_mode": {
    "name": "ipython",
    "version": 3
   },
   "file_extension": ".py",
   "mimetype": "text/x-python",
   "name": "python",
   "nbconvert_exporter": "python",
   "pygments_lexer": "ipython3",
   "version": "3.12.9"
  }
 },
 "nbformat": 4,
 "nbformat_minor": 5
}
