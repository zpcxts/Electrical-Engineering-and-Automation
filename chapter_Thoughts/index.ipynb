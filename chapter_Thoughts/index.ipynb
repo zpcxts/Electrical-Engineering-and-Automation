{
 "cells": [
  {
   "cell_type": "markdown",
   "id": "d10e4e2d-200e-476c-b0c9-ea167d1e1973",
   "metadata": {},
   "source": [
    "# 碎碎念\n",
    "\n",
    "随时吐槽，随意记录，可能有干货"
   ]
  },
  {
   "cell_type": "markdown",
   "id": "3a977b0c-83ef-4146-92d3-90a6ffc0ec55",
   "metadata": {},
   "source": [
    "- [2025-2-17 豆包能否信任](2025-2-17豆包能否信任.ipynb)\n",
    "- [2025-2-10 入职锐评](2025-2-10入职锐评.ipynb)\n"
   ]
  },
  {
   "cell_type": "code",
   "execution_count": null,
   "id": "bb0b16f5-1aff-446d-8d22-4bcab66c1771",
   "metadata": {},
   "outputs": [],
   "source": []
  }
 ],
 "metadata": {
  "kernelspec": {
   "display_name": "Python 3 (ipykernel)",
   "language": "python",
   "name": "python3"
  },
  "language_info": {
   "codemirror_mode": {
    "name": "ipython",
    "version": 3
   },
   "file_extension": ".py",
   "mimetype": "text/x-python",
   "name": "python",
   "nbconvert_exporter": "python",
   "pygments_lexer": "ipython3",
   "version": "3.12.9"
  }
 },
 "nbformat": 4,
 "nbformat_minor": 5
}
