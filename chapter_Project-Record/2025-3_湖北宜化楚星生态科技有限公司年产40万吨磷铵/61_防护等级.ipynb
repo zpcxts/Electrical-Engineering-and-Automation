{
 "cells": [
  {
   "cell_type": "markdown",
   "id": "5bf23689-f7d7-4f2e-acc2-d8d10f6c3879",
   "metadata": {},
   "source": [
    "# 防护等级\n",
    "\n",
    "防护等级IP是Ingress Protection的缩写，IP等级是针对电气设备外壳对异物侵入的防护等级，这个标准在2004年也被采用为美国国家标准。在这个标准中，IP等级的格式为IPXX，其中XX为两个阿拉伯数字，IP等级由两个数字所组成，第一个数字表示防尘;第二个数字由表示防水，数字越大表示其防护等组长越佳。\n",
    "\n",
    "<p style=\"text-align:center;\">\n",
    "    <img src = \"../img/防护等级表.png\" alt=\"description\"/>\n",
    "<p>"
   ]
  }
 ],
 "metadata": {
  "kernelspec": {
   "display_name": "Python 3 (ipykernel)",
   "language": "python",
   "name": "python3"
  },
  "language_info": {
   "codemirror_mode": {
    "name": "ipython",
    "version": 3
   },
   "file_extension": ".py",
   "mimetype": "text/x-python",
   "name": "python",
   "nbconvert_exporter": "python",
   "pygments_lexer": "ipython3",
   "version": "3.9.21"
  }
 },
 "nbformat": 4,
 "nbformat_minor": 5
}
