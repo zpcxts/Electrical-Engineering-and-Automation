{
 "cells": [
  {
   "cell_type": "markdown",
   "id": "145e9789-53d6-4199-b2ad-f333bae2fce2",
   "metadata": {},
   "source": [
    "# 1401 磷酸二铵造粒主厂房\n",
    "\n",
    "## 一. 建筑概况与环境特征\n",
    "\n",
    "（此处厂房照片待补）\n",
    "\n",
    "<p style=\"text-align:center;\">\n",
    "    <img src = \"../img/DAP造粒主厂房实拍.png\" alt=\"description\" width=\"500\"/>\n",
    "<p>\n",
    "\n",
    "### 1. 建筑特征\n",
    "\n",
    "- 建筑面积：磷酸二铵造粒主厂房建筑面积为$7471.39m^2$\n",
    "- 层数：建筑共$6$层\n",
    "- 建筑高度：建筑高度为$45.70m$\n",
    "- 室内外高差：$300mm$\n",
    "- 建筑耐火等级：二级\n",
    "- 建筑结构形式：钢筋混凝土框架结构\n",
    "- 火灾危险性：戊类（最低的火灾危险分类）\n",
    "\n",
    "\n",
    "\n",
    "### 2. 环境特征\n",
    "\n",
    "- 人员密集场所：不属于\n",
    "- 抗震设防烈度：$6$级\n",
    "- 室外消防用水量：$15L/S$，最大室外消防用水量为$20L/S$（这意味着消防负荷为三级负荷）\n",
    "- \n",
    "造粒机附近在事故状态下会产生氨气(NH3),有毒，具有爆炸性。正常情况下不释放。造粒机附近设置机械通风，通风次数6次/小时。"
   ]
  },
  {
   "cell_type": "code",
   "execution_count": null,
   "id": "594ed055-3ebf-4d0d-85db-b2df61768803",
   "metadata": {},
   "outputs": [],
   "source": []
  }
 ],
 "metadata": {
  "kernelspec": {
   "display_name": "Python 3 (ipykernel)",
   "language": "python",
   "name": "python3"
  },
  "language_info": {
   "codemirror_mode": {
    "name": "ipython",
    "version": 3
   },
   "file_extension": ".py",
   "mimetype": "text/x-python",
   "name": "python",
   "nbconvert_exporter": "python",
   "pygments_lexer": "ipython3",
   "version": "3.9.21"
  }
 },
 "nbformat": 4,
 "nbformat_minor": 5
}
