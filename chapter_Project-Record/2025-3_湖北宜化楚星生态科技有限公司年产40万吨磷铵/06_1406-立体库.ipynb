{
 "cells": [
  {
   "cell_type": "markdown",
   "id": "145e9789-53d6-4199-b2ad-f333bae2fce2",
   "metadata": {},
   "source": [
    "# 1406 立体库\n",
    "\n",
    "立体库是堆放磷酸二铵（DAP）和硫基复合肥（NPK）成品的仓库。从DAP包装楼引3条输送皮带、NPK包装楼引2条输送皮带将肥料送到立体库3楼自动堆垛，放包。将肥料从仓库取出时，则从二楼取包，分拣，然后送到一楼装车。\n",
    "\n",
    "## 一. 建筑概况与环境特征\n",
    "\n",
    "（此处厂房照片待补）\n",
    "\n",
    "<p style=\"text-align:center;\">\n",
    "    <img src = \"../img/DAP造粒主厂房实拍.png\" alt=\"description\" width=\"500\"/>\n",
    "<p>\n",
    "\n",
    "### 1. 建筑特征\n",
    "\n",
    "- 建筑面积：总建筑面积$19877.46m^2$，计容面积$34974.96m^2$\n",
    "- 层数：操作平台$3$层，设备平台14层\n",
    "- 建筑高度：建筑高度为$23.90m$\n",
    "- 室内外高差：$200mm$\n",
    "- 建筑耐火等级：二级\n",
    "- 建筑结构形式：钢筋混凝土框架 + 预应力混凝土双T板屋面\n",
    "- 火灾危险性：戊类（最低的火灾危险分类，根据规范，无需设置应急疏散照明指示）\n",
    "- 建筑性质：成品立体库（仓库）\n",
    "\n",
    "### 2. 环境特征\n",
    "\n",
    "- 人员密集场所：不属于\n",
    "- 抗震设防烈度：$6$级\n",
    "- 室外消防用水量：$20L/S$，最大室外消防用水量为$35L/S$（这意味着消防负荷为三级负荷）\n",
    "- 其他：属于一般性腐蚀环境，电气设备防护等级不低于WF1 IP54\n",
    "\n",
    "---\n"
   ]
  },
  {
   "cell_type": "markdown",
   "id": "3f2019d3-ab93-4468-8c0b-f1549ff4513c",
   "metadata": {},
   "source": [
    "## 二. 低压配电系统\n",
    "\n",
    "1. 负荷等级：所有用电设备均为三级负荷（断电无重大影响的负荷）\n",
    "2. 电源：由DAP配电室低压配电柜引来\n",
    "3. 供电方式：380/220V放射式供电，TN-S系统。（供电方式笔记详见：[供电方式](../../chapter_Experience/供电方式.ipynb)）\n",
    "4. 低压保护装置：[低压断路器保护线路长度计算方法](../../chapter_Experience/低压断路器保护线路长度计算方法.ipynb)\n",
    "\n",
    "---"
   ]
  },
  {
   "cell_type": "markdown",
   "id": "6c6c35b4-2226-4f73-9472-8074178f6703",
   "metadata": {},
   "source": [
    "## 三. 照明防雷接地\n",
    "\n",
    "### 3.1 常规照明\n",
    "\n",
    "采用节能型LED光源三防工厂灯，泛光灯，广照灯，防护等级为IP54。以下是名词解释：\n",
    "- LED光源：电致发光的半导体材料芯片\n",
    "- 三防灯：防水，防尘，防爆\n",
    "- 泛光灯/广照灯：配光曲线不同，实际生产中可以乱用\n",
    "- 防护等级（Ingress Protection）：防水防尘等级。（防护等级笔记详见：[防护等级](../../chapter_Experience/防护等级.ipynb)）\n",
    "\n",
    "### 3.2 应急照明\n",
    "\n",
    "依据《建筑防火通用规范》10.1.8，戊类库房无需设置消防应急照明。\n",
    "\n",
    "### 3.3 备用照明\n",
    "\n",
    "依据规范，本库房无需设置备用照明。（我还没见过需要备用照明的建筑）\n",
    "\n"
   ]
  },
  {
   "cell_type": "code",
   "execution_count": null,
   "id": "ec030bdc-b437-4244-aea1-7854e9f35ca4",
   "metadata": {},
   "outputs": [],
   "source": []
  }
 ],
 "metadata": {
  "kernelspec": {
   "display_name": "Python 3 (ipykernel)",
   "language": "python",
   "name": "python3"
  },
  "language_info": {
   "codemirror_mode": {
    "name": "ipython",
    "version": 3
   },
   "file_extension": ".py",
   "mimetype": "text/x-python",
   "name": "python",
   "nbconvert_exporter": "python",
   "pygments_lexer": "ipython3",
   "version": "3.9.21"
  }
 },
 "nbformat": 4,
 "nbformat_minor": 5
}
