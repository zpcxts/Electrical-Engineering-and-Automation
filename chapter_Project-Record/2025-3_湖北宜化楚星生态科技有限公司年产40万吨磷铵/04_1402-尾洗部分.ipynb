{
 "cells": [
  {
   "cell_type": "markdown",
   "id": "82a4fbd6-e600-4d2c-8d73-90bade40d810",
   "metadata": {},
   "source": [
    "# 1402 尾洗部分\n",
    "\n",
    "---"
   ]
  },
  {
   "cell_type": "markdown",
   "id": "88c7937f-9fba-4b7f-9e2f-7f3ebc3d0b85",
   "metadata": {},
   "source": [
    "## 六. 动力\n",
    "\n",
    "由于本部分设计上出现纰漏，需要核查平面图/系统图/现场的电机型号是否匹配。\n",
    "\n",
    "<p style=\"text-align:center;\">\n",
    "    <img src = \"../img/DAP尾洗动力.png\" alt=\"description\" width=\"500\"/>\n",
    "<p>\n",
    "\n",
    "| 工艺位号 | 名称 | 设计功率/工频·变频 | 现场功率/工频·变频 | 电缆型号 | 规格 | 管径 |\n",
    "| --- | --- | --- | --- | --- | --- | --- |\n",
    "| 1402-A01 | 管式反应器槽搅拌桨 | 11KW/工频 | 7.5KW/ |\n",
    "| 1402-A02 | 洗涤器槽搅拌桨 | 11KW/工频 | 11KW/ |\n",
    "| 1402-A03 | 污水池搅拌桨 | 18.5KW/工频 | 18.5KW/ |\n",
    "| 1402-A04 | 浓磷酸搅拌桨 | 45KW/工频 | 37KW/ |\n",
    "| 1402-A05 | 废液酸槽搅拌桨 | 45KW/工频 | 37KW/ |\n",
    "| 1402-A06 | 着色剂槽搅拌桨 | 11KW/工频 | 37KW/ |\n",
    "| 1402-A07 | 配料地下槽搅拌桨 | 11KW/工频 | 7.5KW/ |\n",
    "| 1402-A08 | 消泡剂槽搅拌桨 | 2.2KW/工频 | 1.1KW/ |\n",
    "| 1402-A09 | 配料中间槽搅拌器 | 11KW/工频 | 1.1KW/ |\n",
    "| 1402-P01A | 管式反应器泵 | 55KW/变频（VVVF） | 55KW/ |\n",
    "| 1402-P01B | 管式反应器泵 | 55KW/变频（VVVF） | 55KW/ |\n",
    "| 1402-P02A | 管式反应器泵 | 55KW/变频（VVVF） | 55KW/ |\n",
    "| 1402-P02B | 管式反应器泵 | 55KW/变频（VVVF） | 55KW/ |\n",
    "| 1402-P03A | 预洗涤器泵 | 110KW/工频 | 110KW/ |\n",
    "| 1402-P03B | 预洗涤器泵 | 110KW/工频 | 110KW/ |\n",
    "| 1402-P04A | 收尘洗涤器泵 | 185KW/工频（SFT） | 110KW/ |\n",
    "| 1402-P04B | 收尘洗涤器泵 | 185KW/工频（SFT） | 110KW/ |\n",
    "| 1402-P05A | 干燥洗涤泵 | 185KW/工频（SFT） | 185KW/ |\n",
    "| 1402-P05B | 干燥洗涤泵 | 185KW/工频（SFT） | 185KW/ |\n",
    "| 1402-P06A | 尾气洗涤泵 | 132KW/工频（SFT） | 132KW/ |\n",
    "| 1402-P06B | 尾气洗涤泵 | 132KW/工频（SFT） | 132KW/ |\n",
    "| 1402-P06C | 尾气洗涤泵 | 132KW/工频（SFT） | 132KW/ |\n",
    "| 1402-P07A | 污水泵 | 55KW/变频（VVVF） | 55KW/ |\n",
    "| 1402-P07B | 污水泵 | 55KW/变频（VVVF） | 55KW/ |\n",
    "| 1402-P08 | 冲洗水泵 | 30KW/变频（VVVF） | 30KW/ |\n",
    "| 1402-P10A| 清洗循环泵 | 37KW/工频 | 37KW/ |\n",
    "| 1402-P10B| 清洗循环泵 | 37KW/工频 | 37KW/ |\n",
    "| 1402-P11A | 浓磷酸泵 | 45KW/变频（VVVF） | 45KW/ |\n",
    "| 1402-P11B | 浓磷酸泵 | 45KW/变频（VVVF） | 45KW/ |\n",
    "| 1402-P12A | 废液泵 | 22KW/变频（VVVF） | 22KW/ |\n",
    "| 1402-P12B | 废液泵 | 22KW/变频（VVVF） | 22KW/ |\n",
    "| 1402-P13A | 浓硫酸泵 | 3KW/变频（VVVF） | 5.5KW/ |\n",
    "| 1402-P13B | 浓硫酸泵 | 3KW/变频（VVVF） | 5.5KW/ |\n",
    "| 1402-P14 | 配料地槽泵 | 5.5KW/工频 | 5.5KW/ |\n",
    "| 1402-P15A | 配料中间槽泵 | 5.5KW/变频（VVVF） | 5.5KW/ |\n",
    "| 1402-P15B | 配料中间槽泵 | 5.5KW/变频（VVVF） | 5.5KW/ |\n",
    "| 1402-P16 | 着色剂卸车泵 | 4KW/工频 | 4KW/ |\n",
    "| 1402-P17 | 包裹油卸车泵 | 11KW/工频 | 4KW/ |\n",
    "| 1402-P18A | 着色剂泵 | 0.55KW/变频（VVVF） | 0.55KW/ |\n",
    "| 1402-P18B | 着色剂泵 | 0.55KW/变频（VVVF） | 0.55KW/ |\n",
    "| 1402-P19A | 包裹油泵 | 1.5KW/变频（VVVF） | 1.5KW/ |\n",
    "| 1402-P19B | 包裹油泵 | 1.5KW/变频（VVVF） | 1.5KW/ |\n",
    "| 1402-P20A | 消泡剂泵 | 0.37KW/变频（VVVF） | 0.55KW/ |\n",
    "| 1402-P20B | 消泡剂泵 | 0.37KW/变频（VVVF） | 0.55KW/ |\n",
    "| 1403-P01A | 循环水泵 | / | 45KW/ |\n",
    "| 1403-P01B | 循环水泵 | / | 45KW/ |\n",
    "\n",
    "***未找到工艺位号1402-P09的设备***\n"
   ]
  },
  {
   "cell_type": "code",
   "execution_count": null,
   "id": "2334d68a-45a7-4f09-bcf2-4be51aa19791",
   "metadata": {},
   "outputs": [],
   "source": []
  }
 ],
 "metadata": {
  "kernelspec": {
   "display_name": "Python 3 (ipykernel)",
   "language": "python",
   "name": "python3"
  },
  "language_info": {
   "codemirror_mode": {
    "name": "ipython",
    "version": 3
   },
   "file_extension": ".py",
   "mimetype": "text/x-python",
   "name": "python",
   "nbconvert_exporter": "python",
   "pygments_lexer": "ipython3",
   "version": "3.9.21"
  }
 },
 "nbformat": 4,
 "nbformat_minor": 5
}
