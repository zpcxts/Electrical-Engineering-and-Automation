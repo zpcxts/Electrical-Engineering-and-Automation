{
 "cells": [
  {
   "cell_type": "markdown",
   "id": "c6f410db-fd02-4faa-bcdb-4747391240d1",
   "metadata": {},
   "source": [
    "# 湖北宜化楚星生态环境有限公司年产40万吨磷铵、20万吨硫基复合肥节能升级改造项目（2025年3月4日~）\n",
    "\n",
    "\n",
    "\n",
    "- [01_项目介绍](01_Introduction.ipynb)\n",
    "- [02_DAP全厂供电](02_DAP全厂供电.ipynb)\n",
    "- [03_1401-DAP造粒主厂房](03_1401-DAP造粒主厂房.ipynb)\n",
    "- [04_1402-尾洗部分](04_1402-尾洗部分.ipynb)\n",
    "- [06_1406-立体库](06_1406-立体库.ipynb)\n",
    "- [59_1507-盐酸罐区](59_1507-盐酸罐区.ipynb)"
   ]
  },
  {
   "cell_type": "code",
   "execution_count": null,
   "id": "9b5f7143-d960-42e6-8437-465e61f4e654",
   "metadata": {},
   "outputs": [],
   "source": []
  }
 ],
 "metadata": {
  "kernelspec": {
   "display_name": "Python 3 (ipykernel)",
   "language": "python",
   "name": "python3"
  },
  "language_info": {
   "codemirror_mode": {
    "name": "ipython",
    "version": 3
   },
   "file_extension": ".py",
   "mimetype": "text/x-python",
   "name": "python",
   "nbconvert_exporter": "python",
   "pygments_lexer": "ipython3",
   "version": "3.9.21"
  }
 },
 "nbformat": 4,
 "nbformat_minor": 5
}
