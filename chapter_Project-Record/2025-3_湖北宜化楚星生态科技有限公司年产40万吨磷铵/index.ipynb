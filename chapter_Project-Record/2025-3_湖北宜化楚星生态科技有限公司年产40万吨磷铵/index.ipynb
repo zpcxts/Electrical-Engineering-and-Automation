{
 "cells": [
  {
   "cell_type": "markdown",
   "id": "c6f410db-fd02-4faa-bcdb-4747391240d1",
   "metadata": {},
   "source": [
    "# 湖北宜化楚星生态环境有限公司年产40万吨磷铵、20万吨硫基复合肥节能升级改造项目（2025年3月4日~）\n",
    "\n",
    "## 1. 目标\n",
    "\n",
    "1. 掌握电气设计的相关知识，包括：\n",
    "   - 电力系统配电，送电知识。\n",
    "   - 掌握具体的用电设备**外观**、**接线方式**、**工作原理**、**对应系统图/平面图中的标记**。\n",
    "   - 现场和设计图的对应。\n",
    "2. 了解工厂的运作过程\n",
    "3. 了解各个专业间的配合，特别是工艺部分的原理（行有余力）\n",
    "\n",
    "## 2. 笔记结构\n",
    "\n",
    "本篇笔记采用总分总的结构。首先介绍整个工厂的概况。工厂电气部分的整体情况。然后以每栋房子为单位，尽可能详尽的全面记录**动力**、**弱电**、**火灾报警**、**照明防雷接地**（电气相关）的全部内容。最后总结工厂的情况。\n",
    "\n",
    "后续还准备补充和其他专业的配合的相关笔记。\n",
    "\n",
    "## 3. 目录\n",
    "\n",
    "- [01_项目介绍](01_Introduction.ipynb)\n",
    "- [02_DAP全厂供电](02_DAP全厂供电.ipynb)\n",
    "- [03_1401-DAP造粒主厂房](03_1401-DAP造粒主厂房.ipynb)\n",
    "- [04_1402-尾洗部分](04_1402-尾洗部分.ipynb)"
   ]
  },
  {
   "cell_type": "code",
   "execution_count": null,
   "id": "9b5f7143-d960-42e6-8437-465e61f4e654",
   "metadata": {},
   "outputs": [],
   "source": []
  }
 ],
 "metadata": {
  "kernelspec": {
   "display_name": "Python 3 (ipykernel)",
   "language": "python",
   "name": "python3"
  },
  "language_info": {
   "codemirror_mode": {
    "name": "ipython",
    "version": 3
   },
   "file_extension": ".py",
   "mimetype": "text/x-python",
   "name": "python",
   "nbconvert_exporter": "python",
   "pygments_lexer": "ipython3",
   "version": "3.9.21"
  }
 },
 "nbformat": 4,
 "nbformat_minor": 5
}
