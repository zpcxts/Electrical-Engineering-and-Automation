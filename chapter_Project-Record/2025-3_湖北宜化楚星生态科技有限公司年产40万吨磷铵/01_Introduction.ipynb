{
 "cells": [
  {
   "cell_type": "markdown",
   "id": "c471803b-70b2-4a21-873c-8588f9faf812",
   "metadata": {},
   "source": [
    "# 项目介绍\n",
    "\n",
    "## 1. 背景\n",
    "\n",
    "湖北宜化楚星生态环境有限公司年产40万吨磷铵、20万吨硫基复合肥节能升级改造项目至2025年3月基本进入收尾阶段，开始拉电缆，配电室开始送电。基于1.深入掌握电气系统运行原理。2.培养工程经验。的考量，从3月4日开始，派小曾下工地进行为期2~3个月的现场学习。\n",
    "\n",
    "## 2. 目标\n",
    "\n",
    "1. 掌握电气设计的相关知识，包括：\n",
    "   - 电力系统配电，送电知识。\n",
    "   - 掌握具体的用电设备**外观**、**接线方式**、**工作原理**、**对应系统图/平面图中的标记**。\n",
    "   - 现场和设计图的对应。\n",
    "2. 了解工厂的运作过程\n",
    "3. 了解各个专业间的配合，特别是工艺部分的原理（行有余力）\n",
    "\n",
    "## 3. 笔记结构\n",
    "\n",
    "1. 项目介绍（对应笔记01）：介绍本篇笔记内容。工厂概况，工厂运行机制，工厂电气部分整体情况。\n",
    "2. 单元详细说明（对应笔记02~）：以每个单元为单位，尽可能详尽的全面记录**动力**、**弱电**、**火灾报警**、**照明防雷接地**（电气相关）的全部内容。\n",
    "3. 术语详细说明：（对应笔记60~）：名词解释，名词数学公式推导。名词应用说明。\n",
    "4. 和其他专业配合的相关笔记（待补充）：\n",
    "\n",
    "## 4. 贡献\n",
    "\n",
    "## 5. 致谢\n",
    "\n",
    "对本篇笔记的编辑做出指导、校正的几位老师，前辈表示感谢。\n",
    "- 敖成远（云南化工设计院）\n",
    "- 胡振兴（云南化工设计院）\n",
    "- 黄昆林（云南化工设计院）\n",
    "\n"
   ]
  },
  {
   "cell_type": "markdown",
   "id": "4a66daaa-3687-4790-8827-294c1d12f6c2",
   "metadata": {},
   "source": [
    "## 6. 参考文献\n",
    "\n",
    "1. [IT、TT、TN-C、TN-C-S、TN-S供电系统原理和优缺点](https://zhuanlan.zhihu.com/p/143930635#:~:text=TN-S%E4%BE%9B%E7%94%B5%E7%B3%BB%E7%BB%9F%E4%B9%9F%E5%B0%B1%E6%98%AF%E6%88%91%E4%BB%AC%E5%B8%B8%E8%AF%B4%E7%9A%84%20%E4%B8%89%E7%9B%B8%E4%BA%94%E7%BA%BF%E4%BE%9B%E7%94%B5%E7%B3%BB%E7%BB%9F%EF%BC%8C%E5%AE%83%E6%98%AF%E7%94%B13%E6%A0%B9%E7%81%AB%E7%BA%BF%2B1%E6%A0%B9%E4%B8%AD%E6%80%A7%E7%BA%BF%2B1%E6%A0%B9%E5%9C%B0%E7%BA%BF%E7%BB%84%E6%88%90%E7%9A%84%E4%BE%9B%E7%94%B5%E6%96%B9%E5%BC%8F%E3%80%82,%E8%99%BD%E7%84%B6TN-S%E4%BE%9B%E7%94%B5%E7%B3%BB%E7%BB%9F%E5%AE%89%E5%85%A8%E5%8F%AF%E9%9D%A0%EF%BC%8C%E4%BD%86%E6%98%AF%E5%AE%83%E6%89%80%E9%9C%80%E8%A6%81%E7%9A%84%E7%94%B5%E7%BA%BF%E6%A0%B9%E6%95%B0%E6%9C%80%E5%A4%9A%E3%80%81%E6%8A%95%E8%B5%84%E6%88%90%E6%9C%AC%E6%9C%80%E9%AB%98%E3%80%82%20%E5%9B%A0%E4%B8%BA%E8%AE%BE%E5%A4%87%E6%AD%A3%E5%B8%B8%E5%B7%A5%E4%BD%9C%E5%8F%AA%E9%9C%80%E8%A6%81%E7%81%AB%E7%BA%BF%E5%92%8C%E4%B8%AD%E6%80%A7%E7%BA%BF%EF%BC%8C%E4%BD%86%E6%98%AF%E4%B8%BA%E4%BA%86%E4%BA%BA%E8%BA%AB%E5%AE%89%E5%85%A8%EF%BC%8C%E5%AE%83%E5%A4%9A%E4%BA%86%E4%B8%80%E6%A0%B9%E5%9C%B0%E7%BA%BF%E3%80%82%20%E4%B8%BA%E4%BA%86%E8%8A%82%E7%BA%A6%E6%88%90%E6%9C%AC%EF%BC%8C%E5%BD%93%E7%94%A8%E7%94%B5%E8%B4%9F%E8%8D%B7%E8%B7%9D%E7%A6%BB%E5%8F%98%E5%8E%8B%E5%99%A8%E4%B8%8D%E8%BF%9C%E6%88%96%E8%80%85%E6%9C%89%E4%B8%93%E7%94%A8%E5%8F%98%E5%8E%8B%E5%99%A8%E6%97%B6%EF%BC%8C%E6%89%8D%E9%87%87%E7%94%A8TN-S%E4%BE%9B%E7%94%B5%E7%B3%BB%E7%BB%9F%E3%80%82)\n",
    "\n",
    "2. [接地方式](https://baike.baidu.com/item/%E6%8E%A5%E5%9C%B0/5310081)\n",
    "\n",
    "3. [漏电](https://baike.baidu.com/item/%E6%BC%8F%E7%94%B5/2826971)\n",
    "\n",
    "4. [IP防护等级](https://baike.baidu.com/item/IP%E9%98%B2%E6%8A%A4%E7%AD%89%E7%BA%A7/4710066)"
   ]
  }
 ],
 "metadata": {
  "kernelspec": {
   "display_name": "Python 3 (ipykernel)",
   "language": "python",
   "name": "python3"
  },
  "language_info": {
   "codemirror_mode": {
    "name": "ipython",
    "version": 3
   },
   "file_extension": ".py",
   "mimetype": "text/x-python",
   "name": "python",
   "nbconvert_exporter": "python",
   "pygments_lexer": "ipython3",
   "version": "3.9.21"
  }
 },
 "nbformat": 4,
 "nbformat_minor": 5
}
