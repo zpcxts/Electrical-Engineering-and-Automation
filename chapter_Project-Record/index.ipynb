{
 "cells": [
  {
   "cell_type": "markdown",
   "id": "167b9666-9b3d-493b-a15a-fba7672c3ff1",
   "metadata": {},
   "source": [
    "# 项目记录\n",
    "\n",
    "第一个项目具有练手性质，所以大量记载了结合工程使用AutoCAD的方法。之后的记录方式还没想好，先慢慢整理。\n",
    "\n",
    "- [2025-02_瓮安县新材料及电子化学品6.6万吨黄林配套团球框项目6.6万吨黄磷及配套装置建设工程](2025-2_瓮安县新材料及电子化学品6.6万吨黄林配套团球框项目6.6万吨黄磷及配套装置建设工程/index.ipynb)"
   ]
  },
  {
   "cell_type": "code",
   "execution_count": null,
   "id": "a623f5bc-d697-4bba-b690-fd8bb7ae8c33",
   "metadata": {},
   "outputs": [],
   "source": []
  }
 ],
 "metadata": {
  "kernelspec": {
   "display_name": "Python 3 (ipykernel)",
   "language": "python",
   "name": "python3"
  },
  "language_info": {
   "codemirror_mode": {
    "name": "ipython",
    "version": 3
   },
   "file_extension": ".py",
   "mimetype": "text/x-python",
   "name": "python",
   "nbconvert_exporter": "python",
   "pygments_lexer": "ipython3",
   "version": "3.9.21"
  }
 },
 "nbformat": 4,
 "nbformat_minor": 5
}
