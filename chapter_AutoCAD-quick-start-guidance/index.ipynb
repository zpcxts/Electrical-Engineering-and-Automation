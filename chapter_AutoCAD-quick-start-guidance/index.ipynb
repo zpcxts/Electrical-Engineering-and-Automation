{
 "cells": [
  {
   "cell_type": "markdown",
   "id": "d3ec54bf-2284-465f-8628-c932f279fb30",
   "metadata": {},
   "source": [
    "# AutoCAD快速入门引导\n",
    "\n",
    "在上手工作之前，首先要了解我们最主要的工作工具：AutoCAD。\n",
    "这是一个脱离实际工程的教程，只是熟悉AutoCAD的界面。\n",
    "教程引自[《AutoCAD Quick Start Guide》](https://www.autodesk.com/learn/ondemand/curated/autocad-quick-start-guide),其实除了熟悉AutoCAD之外，还希望借此练习英语。\n",
    "\n",
    "\n",
    "- [01_Introducing-AutoCAD](01_Introducing-AutoCAD.ipynb)\n",
    "- [02_the-User-Interface-in-AutoCAD](02_the-User-Interface-in-AutoCAD.ipynb)\n",
    "- [03_the-Navigation-bar-in-AutoCAD](03_the-Navigation-bar-in-AutoCAD.ipynb)"
   ]
  }
 ],
 "metadata": {
  "kernelspec": {
   "display_name": "Python 3 (ipykernel)",
   "language": "python",
   "name": "python3"
  },
  "language_info": {
   "codemirror_mode": {
    "name": "ipython",
    "version": 3
   },
   "file_extension": ".py",
   "mimetype": "text/x-python",
   "name": "python",
   "nbconvert_exporter": "python",
   "pygments_lexer": "ipython3",
   "version": "3.12.9"
  }
 },
 "nbformat": 4,
 "nbformat_minor": 5
}
