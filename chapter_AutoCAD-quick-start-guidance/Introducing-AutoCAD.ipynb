{
 "cells": [
  {
   "cell_type": "markdown",
   "id": "1a2bade5",
   "metadata": {},
   "source": [
    "# Introducing AutoCAD"
   ]
  },
  {
   "cell_type": "markdown",
   "id": "7e3e28e2",
   "metadata": {},
   "source": [
    "AutoCAD is the number one software powering teams worldwide. With AutoCAD design 2D drawings or 3D models with *precision* and *efficiency*. Whether you're just starting out with using AutoCAD for the firs time or you want to get more familar with one of the robust AutoCAD toolsets, this is for you."
   ]
  },
  {
   "cell_type": "markdown",
   "id": "f39da52e",
   "metadata": {},
   "source": [
    "1. Type: *tutorial*\n",
    "1. Length: 1 min."
   ]
  },
  {
   "cell_type": "markdown",
   "id": "fb34c53f",
   "metadata": {},
   "source": [
    "Wheter you're an architect, engineer, or working in *construction*, AutoCAD is the number one software powering teams worldwide. With AutoCAD,design 2D drawing and #D models with precision and efficiency.\n",
    "\n",
    "Hi, I'm Shaun Bryant, an Autodesk Certified Instructor and Expert Elite with over 34 years of industry xperience."
   ]
  },
  {
   "cell_type": "code",
   "execution_count": null,
   "id": "bbd363c5",
   "metadata": {},
   "outputs": [],
   "source": []
  }
 ],
 "metadata": {
  "kernelspec": {
   "display_name": "Python 3 (ipykernel)",
   "language": "python",
   "name": "python3"
  },
  "language_info": {
   "codemirror_mode": {
    "name": "ipython",
    "version": 3
   },
   "file_extension": ".py",
   "mimetype": "text/x-python",
   "name": "python",
   "nbconvert_exporter": "python",
   "pygments_lexer": "ipython3",
   "version": "3.12.9"
  }
 },
 "nbformat": 4,
 "nbformat_minor": 5
}
