{
 "cells": [
  {
   "cell_type": "markdown",
   "id": "1a2bade5",
   "metadata": {},
   "source": [
    "# Introducing AutoCAD"
   ]
  },
  {
   "cell_type": "markdown",
   "id": "7e3e28e2",
   "metadata": {},
   "source": [
    "AutoCAD is the number one software powering teams worldwide. With AutoCAD design 2D drawings or 3D models with *precision* and *efficiency*. Whether you're just starting out with using AutoCAD for the firs time or you want to get more familar with one of the robust AutoCAD toolsets, this is for you."
   ]
  },
  {
   "cell_type": "markdown",
   "id": "f39da52e",
   "metadata": {},
   "source": [
    "1. Type: *tutorial*\n",
    "1. Length: 1 min."
   ]
  },
  {
   "cell_type": "markdown",
   "id": "fb34c53f",
   "metadata": {},
   "source": [
    "Whether you're an architect, engineer, or working in *construction*, AutoCAD is the number one software powering teams worldwide. With AutoCAD, design 2D drawing and 3D models with precision and efficiency.\n",
    "\n",
    "Hi, I'm Shaun Bryant, an Autodesk *Certified* *Instructor* and *Expert* *Elite* with over 34 years of *industry* experience.\n",
    "\n",
    "Whether you're just starting out with using AutoCAD for the first time or you want to get more familiar with one of the robust AutoCAD toolsets, this is for you.\n",
    "\n",
    "From the basics of drawing a line to designing *manufacturing* plants, we'll cover it all.\n",
    "\n",
    "I'll lead you step-by-step through navigating the interface, *collaborating* with teammates, customizing workspaces, and ensuring your designs meet *industry* *standards*.\n",
    "\n",
    "We'll go over *expert* tips and tricks I've learned along the way to get you *ramped up* in no time.\n",
    "\n",
    "So what are you waiting for? Let's get started."
   ]
  },
  {
   "cell_type": "markdown",
   "id": "2be7ad64-b0fb-4922-8eba-f8bf31f16e18",
   "metadata": {},
   "source": [
    "## Vocabulary\n",
    "\n",
    "1. precision: 精确\n",
    "2. efficiency: 效率\n",
    "3. tutorial: 指导\n",
    "4. construcion: 建造\n",
    "5. certified: 认证\n",
    "6. instructor: 讲师\n",
    "7. expert: 专家\n",
    "8. elite: 精英\n",
    "9. industry: 行业\n",
    "10. collaborating: 合作\n",
    "   - 「cooperate」が単に「力を合わせる」という意味を表すのに対し、「collaborate」はその「力を合わせる」こと自体のみならず、むしろ協力の目標に主眼を置き「協力によってある結果を生み出そうとする」という意味を表します。\n",
    "\n",
    "11. manufacturing: 制造业\n",
    "12. standard: 标准\n",
    "13. tricks: 技巧\n",
    "14. ramped: 斜坡\n",
    "15. ramped up: 加大力度"
   ]
  }
 ],
 "metadata": {
  "kernelspec": {
   "display_name": "Python 3 (ipykernel)",
   "language": "python",
   "name": "python3"
  },
  "language_info": {
   "codemirror_mode": {
    "name": "ipython",
    "version": 3
   },
   "file_extension": ".py",
   "mimetype": "text/x-python",
   "name": "python",
   "nbconvert_exporter": "python",
   "pygments_lexer": "ipython3",
   "version": "3.12.9"
  }
 },
 "nbformat": 4,
 "nbformat_minor": 5
}
