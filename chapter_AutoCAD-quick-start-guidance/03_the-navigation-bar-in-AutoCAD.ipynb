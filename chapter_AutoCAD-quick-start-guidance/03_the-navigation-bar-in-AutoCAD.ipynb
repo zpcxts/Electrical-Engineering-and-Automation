{
 "cells": [
  {
   "cell_type": "markdown",
   "id": "1d03c805-99f5-4bf9-8288-fdaff42fbed7",
   "metadata": {},
   "source": [
    "# The navigation bar in AutoCAD\n",
    "\n",
    "Learn the ins and outs of the navigation bar, from panning, zooming, to orbiting around your designs.\n",
    "\n",
    "- Type: Tutorial\n",
    "- Length: 4 min."
   ]
  },
  {
   "cell_type": "markdown",
   "id": "ee357d2d-6447-4ec2-b532-03f707fc5396",
   "metadata": {},
   "source": [
    "The navigation bar gives you access to all of the tools that allow you to navigate within an AutoCAD drawing. These tools include both those that can be found across many Autodesk products, as well as tools *specific* to AutoCAD.\n",
    "\n",
    "For example: \n",
    "- The ViewCube *indicates* the current orientation of a model and is used to *reorient* the current view of a model.\n",
    "- The SteeringWheels can be used to switch *rapidly* between specialized navigation tools.\n",
    "- ShowMotion provides an onscreen display for creating and playing back for design review, presentation, and *bookmark-style navigation*.\n",
    "- Pan moves the view parallel to the screen.\n",
    "\n",
    "- The *Zoom* tools increase or decrease the *magnification* of the current view of a model.\n",
    "- Lastly, the *Orbit* tools *rotate* the current view of a model.\n",
    "\n",
    "The navigation bar floats over and along one of the sides of the current drawing area.To launch any of the navigation tools, simply click one of the buttons on the navigation bar.You can also click the *split* button to display a menu of more tools.\n",
    "\n",
    "From the navigation bar, click the Zoom split button and from the menu, select Zoom Window. Now, in the drawing, notice that the cursor tooltip prompts you to *specify* the first corner of the window.\n",
    "\n",
    "Pick a point, and then pick the *opposite* corner for the window. The program automatically zooms accordingly.\n",
    "\n",
    "Once a type of navigation command is specified, that command becomes the default tool on the navigation bar. In this case, for the Zoom tool, the default command is set to Zoom Window. Click the Zoom split button again, and this time, select Zoom *Extents*. Now, Zoom Extents is the default Zoom tool on the navigation bar.\n",
    "\n",
    "To *reposition* the navigation bar, *expand* the navigation bar menu and select Docking positions. From this menu, you can select from different docking options. Select Top left. Because the navigation bar is currently linked to the ViewCube, both are now docked at the top left of the drawing area. Reposition the navigation bar to the bottom left.\n",
    "\n",
    "Again, both the ViewCube and navigation bar move. Reposition the navigation again back to its default placement, which is top right of the drawing area.\n",
    "\n",
    "To unlink the ViewCube from the navigation bar, open the Docking positions submenu again. This time, clear Link to ViewCube. On the navigation bar, a grip handle appears. You can use the grip handle to freely move the navigation bar around the drawing area.\n",
    "\n",
    "To redock the navigation bar, from the Docking positions submenu, enable Link to ViewCube.\n",
    "\n",
    "Start a new drawing. Then, on the ribbon, click the View tab. From here, you can turn on and off the navigation bar, the View Cube, and the UCS icon. The navigation bar and the View Cube resize according to the drawing area.\n",
    "\n",
    "From the Interface panel, select *Tile* *Vertically*. Both drawings that are open tile vertically.\n",
    "\n",
    "Now, select Tile Horizontally. Notice the change in size of the View Cube and navigation bar.\n",
    "\n",
    "*Maximize* one of the drawings to return to the default view of a single drawing."
   ]
  },
  {
   "cell_type": "markdown",
   "id": "954718a5-0157-459e-bb7c-6b7a66001b8a",
   "metadata": {},
   "source": [
    "## Vocabulary\n",
    "\n",
    "1. specific: 具体的\n",
    "2. indicates: 表示\n",
    "3. reorient: 重新定位\n",
    "    - orient: 东方\n",
    "    - orientation: 方向\n",
    "    - oriented: 面向\n",
    "4. rapidly: 迅速的\n",
    "5. bookmark-style navigation: 书签式导航(指的是一种利用书签的方式进行页面或内容切换的导航设计)\n",
    "6. Zoom: 放大/缩小，指的是通过增大或减小显示区域来改变视图的细节。放大（zoom in）让你查看更细节的部分，缩小（zoom out）让你看到更广阔的视图。\n",
    "7. magnification: 放大倍率\n",
    "8. Orbit: 轨道\n",
    "9. rotate: 旋转\n",
    "10. split: 分裂\n",
    "11. specify: 指定\n",
    "12. opposite: 对面的\n",
    "13. Extents: 范围\n",
    "14. reposition: 复位\n",
    "    - position: 位置\n",
    "   \n",
    "15. expand: 扩张\n",
    "16. grip: 紧握\n",
    "    - grip handle: 手柄\n",
    "   \n",
    "17. Vertically: 垂直\n",
    "    - horizontally: 水平\n",
    "    - Tile Vertically: 垂直平铺（tile作名词为\"瓦\"，做动词为\"铺\"）\n",
    "18. Maximize: 最大化"
   ]
  }
 ],
 "metadata": {
  "kernelspec": {
   "display_name": "Python 3 (ipykernel)",
   "language": "python",
   "name": "python3"
  },
  "language_info": {
   "codemirror_mode": {
    "name": "ipython",
    "version": 3
   },
   "file_extension": ".py",
   "mimetype": "text/x-python",
   "name": "python",
   "nbconvert_exporter": "python",
   "pygments_lexer": "ipython3",
   "version": "3.12.9"
  }
 },
 "nbformat": 4,
 "nbformat_minor": 5
}
